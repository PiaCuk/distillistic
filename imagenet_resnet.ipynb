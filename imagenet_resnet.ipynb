{
 "cells": [
  {
   "cell_type": "code",
   "execution_count": 1,
   "metadata": {},
   "outputs": [
    {
     "data": {
      "text/plain": [
       "'/home/pia/Documents/distillistic/venv/bin/python'"
      ]
     },
     "execution_count": 1,
     "metadata": {},
     "output_type": "execute_result"
    }
   ],
   "source": [
    "import sys\n",
    "sys.executable\n"
   ]
  },
  {
   "cell_type": "code",
   "execution_count": 2,
   "metadata": {},
   "outputs": [],
   "source": [
    "import os\n",
    "import time\n",
    "from enum import Enum\n",
    "\n",
    "import torch\n",
    "from torchvision import datasets, transforms\n",
    "from torch.utils.data import DataLoader\n",
    "\n",
    "from distillistic import resnet18, ImageNet_loader\n"
   ]
  },
  {
   "cell_type": "code",
   "execution_count": 3,
   "metadata": {},
   "outputs": [],
   "source": [
    "# Data loading code\n",
    "data_dir = \"/home/pia/Documents/ImageNet\"\n",
    "workers = 2\n",
    "bs = 2\n",
    "'''\n",
    "traindir = os.path.join(data_dir, 'train')\n",
    "valdir = os.path.join(data_dir, 'val')\n",
    "normalize = transforms.Normalize(mean=[0.485, 0.456, 0.406],\n",
    "                                 std=[0.229, 0.224, 0.225])\n",
    "\n",
    "train_dataset = datasets.ImageFolder(\n",
    "    traindir,\n",
    "    transforms.Compose([\n",
    "        transforms.RandomResizedCrop(224),\n",
    "        transforms.RandomHorizontalFlip(),\n",
    "        transforms.ToTensor(),\n",
    "        normalize,\n",
    "    ]))\n",
    "val_dataset = datasets.ImageFolder(\n",
    "    valdir,\n",
    "    transforms.Compose([\n",
    "        transforms.Resize(256),\n",
    "        transforms.CenterCrop(224),\n",
    "        transforms.ToTensor(),\n",
    "        normalize,\n",
    "    ]))\n",
    "\n",
    "train_loader = DataLoader(\n",
    "    train_dataset, batch_size=bs, shuffle=True,\n",
    "    num_workers=workers, pin_memory=True)\n",
    "\n",
    "val_loader = DataLoader(\n",
    "    val_dataset, batch_size=bs, shuffle=False,\n",
    "    num_workers=workers, pin_memory=True)\n",
    "'''\n",
    "val_loader = ImageNet_loader(data_dir, bs, train=False, workers=workers)"
   ]
  },
  {
   "cell_type": "code",
   "execution_count": 4,
   "metadata": {},
   "outputs": [
    {
     "data": {
      "text/plain": [
       "(1281167, 50000)"
      ]
     },
     "execution_count": 4,
     "metadata": {},
     "output_type": "execute_result"
    }
   ],
   "source": [
    "len(train_dataset), len(val_dataset)\n"
   ]
  },
  {
   "cell_type": "code",
   "execution_count": 4,
   "metadata": {},
   "outputs": [],
   "source": [
    "model = resnet18(1000, pretrained=True)\n",
    "criterion = torch.nn.CrossEntropyLoss()\n"
   ]
  },
  {
   "cell_type": "code",
   "execution_count": 5,
   "metadata": {},
   "outputs": [],
   "source": [
    "class Summary(Enum):\n",
    "    NONE = 0\n",
    "    AVERAGE = 1\n",
    "    SUM = 2\n",
    "    COUNT = 3\n",
    "\n",
    "\n",
    "class AverageMeter(object):\n",
    "    \"\"\"Computes and stores the average and current value\"\"\"\n",
    "\n",
    "    def __init__(self, name, fmt=':f', summary_type=Summary.AVERAGE):\n",
    "        self.name = name\n",
    "        self.fmt = fmt\n",
    "        self.summary_type = summary_type\n",
    "        self.reset()\n",
    "\n",
    "    def reset(self):\n",
    "        self.val = 0\n",
    "        self.avg = 0\n",
    "        self.sum = 0\n",
    "        self.count = 0\n",
    "\n",
    "    def update(self, val, n=1):\n",
    "        self.val = val\n",
    "        self.sum += val * n\n",
    "        self.count += n\n",
    "        self.avg = self.sum / self.count\n",
    "\n",
    "    def __str__(self):\n",
    "        fmtstr = '{name} {val' + self.fmt + '} ({avg' + self.fmt + '})'\n",
    "        return fmtstr.format(**self.__dict__)\n",
    "\n",
    "    def summary(self):\n",
    "        fmtstr = ''\n",
    "        if self.summary_type is Summary.NONE:\n",
    "            fmtstr = ''\n",
    "        elif self.summary_type is Summary.AVERAGE:\n",
    "            fmtstr = '{name} {avg:.3f}'\n",
    "        elif self.summary_type is Summary.SUM:\n",
    "            fmtstr = '{name} {sum:.3f}'\n",
    "        elif self.summary_type is Summary.COUNT:\n",
    "            fmtstr = '{name} {count:.3f}'\n",
    "        else:\n",
    "            raise ValueError('invalid summary type %r' % self.summary_type)\n",
    "\n",
    "        return fmtstr.format(**self.__dict__)\n",
    "\n",
    "\n",
    "class ProgressMeter(object):\n",
    "    def __init__(self, num_batches, meters, prefix=\"\"):\n",
    "        self.batch_fmtstr = self._get_batch_fmtstr(num_batches)\n",
    "        self.meters = meters\n",
    "        self.prefix = prefix\n",
    "\n",
    "    def display(self, batch):\n",
    "        entries = [self.prefix + self.batch_fmtstr.format(batch)]\n",
    "        entries += [str(meter) for meter in self.meters]\n",
    "        print('\\t'.join(entries))\n",
    "\n",
    "    def display_summary(self):\n",
    "        entries = [\" *\"]\n",
    "        entries += [meter.summary() for meter in self.meters]\n",
    "        print(' '.join(entries))\n",
    "\n",
    "    def _get_batch_fmtstr(self, num_batches):\n",
    "        num_digits = len(str(num_batches // 1))\n",
    "        fmt = '{:' + str(num_digits) + 'd}'\n",
    "        return '[' + fmt + '/' + fmt.format(num_batches) + ']'\n",
    "\n",
    "\n",
    "def accuracy(output, target, topk=(1,)):\n",
    "    \"\"\"Computes the accuracy over the k top predictions for the specified values of k\"\"\"\n",
    "    with torch.no_grad():\n",
    "        maxk = max(topk)\n",
    "        batch_size = target.size(0)\n",
    "\n",
    "        _, pred = output.topk(maxk, 1, True, True)\n",
    "        pred = pred.t()\n",
    "        correct = pred.eq(target.view(1, -1).expand_as(pred))\n",
    "\n",
    "        res = []\n",
    "        for k in topk:\n",
    "            correct_k = correct[:k].reshape(-1).float().sum(0, keepdim=True)\n",
    "            res.append(correct_k.mul_(100.0 / batch_size))\n",
    "        return res\n"
   ]
  },
  {
   "cell_type": "code",
   "execution_count": 6,
   "metadata": {},
   "outputs": [],
   "source": [
    "def validate(val_loader, model, criterion, gpu=None):\n",
    "    batch_time = AverageMeter('Time', ':6.3f', Summary.NONE)\n",
    "    losses = AverageMeter('Loss', ':.4e', Summary.NONE)\n",
    "    top1 = AverageMeter('Acc@1', ':6.2f', Summary.AVERAGE)\n",
    "    top5 = AverageMeter('Acc@5', ':6.2f', Summary.AVERAGE)\n",
    "    progress = ProgressMeter(\n",
    "        len(val_loader),\n",
    "        [batch_time, losses, top1, top5],\n",
    "        prefix='Test: ')\n",
    "\n",
    "    # switch to evaluate mode\n",
    "    model.eval()\n",
    "\n",
    "    with torch.no_grad():\n",
    "        end = time.time()\n",
    "        for i, (images, target) in enumerate(val_loader):\n",
    "            if gpu is not None:\n",
    "                images = images.cuda(gpu, non_blocking=True)\n",
    "            if torch.cuda.is_available():\n",
    "                target = target.cuda(gpu, non_blocking=True)\n",
    "\n",
    "            # compute output\n",
    "            output = model(images)\n",
    "            loss = criterion(output, target)\n",
    "\n",
    "            # measure accuracy and record loss\n",
    "            acc1, acc5 = accuracy(output, target, topk=(1, 5))\n",
    "            losses.update(loss.item(), images.size(0))\n",
    "            top1.update(acc1[0], images.size(0))\n",
    "            top5.update(acc5[0], images.size(0))\n",
    "\n",
    "            # measure elapsed time\n",
    "            batch_time.update(time.time() - end)\n",
    "            end = time.time()\n",
    "\n",
    "            if i % 1000 == 0:\n",
    "                progress.display(i)\n",
    "\n",
    "        progress.display_summary()\n",
    "\n",
    "    return top1.avg\n"
   ]
  },
  {
   "cell_type": "code",
   "execution_count": 7,
   "metadata": {},
   "outputs": [
    {
     "name": "stdout",
     "output_type": "stream",
     "text": [
      "Test: [    0/25000]\tTime  0.182 ( 0.182)\tLoss 1.3228e+00 (1.3228e+00)\tAcc@1  50.00 ( 50.00)\tAcc@5 100.00 (100.00)\n",
      "Test: [ 1000/25000]\tTime  0.055 ( 0.060)\tLoss 7.1779e-01 (7.7398e-01)\tAcc@1  50.00 ( 80.52)\tAcc@5 100.00 ( 93.91)\n",
      "Test: [ 2000/25000]\tTime  0.055 ( 0.058)\tLoss 3.4904e-02 (1.0058e+00)\tAcc@1 100.00 ( 74.26)\tAcc@5 100.00 ( 91.90)\n",
      "Test: [ 3000/25000]\tTime  0.059 ( 0.059)\tLoss 1.6939e+00 (9.2558e-01)\tAcc@1  50.00 ( 76.59)\tAcc@5 100.00 ( 92.52)\n",
      "Test: [ 4000/25000]\tTime  0.065 ( 0.060)\tLoss 1.6000e-02 (8.7207e-01)\tAcc@1 100.00 ( 77.81)\tAcc@5 100.00 ( 92.89)\n",
      "Test: [ 5000/25000]\tTime  0.058 ( 0.060)\tLoss 2.9407e-01 (9.1488e-01)\tAcc@1 100.00 ( 76.41)\tAcc@5 100.00 ( 92.90)\n",
      "Test: [ 6000/25000]\tTime  0.054 ( 0.060)\tLoss 2.3771e+00 (9.1782e-01)\tAcc@1   0.00 ( 76.01)\tAcc@5 100.00 ( 93.04)\n",
      "Test: [ 7000/25000]\tTime  0.054 ( 0.060)\tLoss 1.0491e-01 (9.1334e-01)\tAcc@1 100.00 ( 75.73)\tAcc@5 100.00 ( 93.34)\n",
      "Test: [ 8000/25000]\tTime  0.056 ( 0.060)\tLoss 8.5245e-02 (9.2315e-01)\tAcc@1 100.00 ( 75.64)\tAcc@5 100.00 ( 93.37)\n",
      "Test: [ 9000/25000]\tTime  0.056 ( 0.059)\tLoss 6.5720e-02 (9.0474e-01)\tAcc@1 100.00 ( 76.20)\tAcc@5 100.00 ( 93.56)\n",
      "Test: [10000/25000]\tTime  0.056 ( 0.059)\tLoss 3.3097e+00 (9.0768e-01)\tAcc@1   0.00 ( 76.31)\tAcc@5  50.00 ( 93.47)\n",
      "Test: [11000/25000]\tTime  0.061 ( 0.059)\tLoss 2.6991e+00 (9.5277e-01)\tAcc@1   0.00 ( 75.42)\tAcc@5  50.00 ( 92.91)\n",
      "Test: [12000/25000]\tTime  0.054 ( 0.059)\tLoss 2.0141e+00 (1.0041e+00)\tAcc@1  50.00 ( 74.52)\tAcc@5  50.00 ( 92.22)\n",
      "Test: [13000/25000]\tTime  0.102 ( 0.059)\tLoss 4.7217e-01 (1.0548e+00)\tAcc@1 100.00 ( 73.41)\tAcc@5 100.00 ( 91.62)\n",
      "Test: [14000/25000]\tTime  0.073 ( 0.062)\tLoss 3.8398e-02 (1.0819e+00)\tAcc@1 100.00 ( 72.90)\tAcc@5 100.00 ( 91.25)\n",
      "Test: [15000/25000]\tTime  0.099 ( 0.064)\tLoss 2.4349e-01 (1.0979e+00)\tAcc@1 100.00 ( 72.67)\tAcc@5 100.00 ( 90.99)\n",
      "Test: [16000/25000]\tTime  0.129 ( 0.067)\tLoss 3.2965e-02 (1.1294e+00)\tAcc@1 100.00 ( 72.02)\tAcc@5 100.00 ( 90.55)\n",
      "Test: [17000/25000]\tTime  0.102 ( 0.074)\tLoss 4.1641e-01 (1.1530e+00)\tAcc@1 100.00 ( 71.57)\tAcc@5 100.00 ( 90.28)\n",
      "Test: [18000/25000]\tTime  0.110 ( 0.076)\tLoss 4.0111e+00 (1.1666e+00)\tAcc@1   0.00 ( 71.30)\tAcc@5  50.00 ( 90.16)\n",
      "Test: [19000/25000]\tTime  0.105 ( 0.078)\tLoss 2.5390e+00 (1.1873e+00)\tAcc@1  50.00 ( 70.88)\tAcc@5  50.00 ( 89.83)\n",
      "Test: [20000/25000]\tTime  0.074 ( 0.079)\tLoss 4.4899e-02 (1.2075e+00)\tAcc@1 100.00 ( 70.59)\tAcc@5 100.00 ( 89.56)\n",
      "Test: [21000/25000]\tTime  0.099 ( 0.080)\tLoss 1.5367e+00 (1.2268e+00)\tAcc@1  50.00 ( 70.20)\tAcc@5 100.00 ( 89.33)\n",
      "Test: [22000/25000]\tTime  0.111 ( 0.081)\tLoss 2.8479e-01 (1.2399e+00)\tAcc@1 100.00 ( 69.91)\tAcc@5 100.00 ( 89.13)\n",
      "Test: [23000/25000]\tTime  0.074 ( 0.082)\tLoss 1.2525e+00 (1.2549e+00)\tAcc@1  50.00 ( 69.65)\tAcc@5 100.00 ( 88.94)\n",
      "Test: [24000/25000]\tTime  0.106 ( 0.083)\tLoss 3.2608e-01 (1.2455e+00)\tAcc@1 100.00 ( 69.82)\tAcc@5 100.00 ( 89.07)\n",
      " *   Acc@1 69.758 Acc@5 89.078\n"
     ]
    },
    {
     "data": {
      "text/plain": [
       "tensor(69.7580)"
      ]
     },
     "execution_count": 7,
     "metadata": {},
     "output_type": "execute_result"
    }
   ],
   "source": [
    "top1 = validate(val_loader, model, criterion)\n",
    "top1\n"
   ]
  },
  {
   "cell_type": "code",
   "execution_count": null,
   "metadata": {},
   "outputs": [],
   "source": []
  }
 ],
 "metadata": {
  "interpreter": {
   "hash": "421c28683662b71ad006cdcc047fe5ec829d90985c2ce2d3b00c043303e2ff71"
  },
  "kernelspec": {
   "display_name": "Python 3.9.7 64-bit ('venv': venv)",
   "language": "python",
   "name": "python3"
  },
  "language_info": {
   "codemirror_mode": {
    "name": "ipython",
    "version": 3
   },
   "file_extension": ".py",
   "mimetype": "text/x-python",
   "name": "python",
   "nbconvert_exporter": "python",
   "pygments_lexer": "ipython3",
   "version": "3.9.7"
  },
  "orig_nbformat": 4
 },
 "nbformat": 4,
 "nbformat_minor": 2
}
