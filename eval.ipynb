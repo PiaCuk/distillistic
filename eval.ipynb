{
 "cells": [
  {
   "cell_type": "code",
   "execution_count": null,
   "metadata": {},
   "outputs": [],
   "source": [
    "import os\n",
    "import glob\n",
    "\n",
    "import numpy as np\n",
    "import torch\n",
    "import torch.nn.functional as F\n",
    "from sklearn import metrics\n",
    "from torch.cuda.amp import autocast\n",
    "from tqdm import tqdm\n",
    "\n",
    "from distillistic import ImageNet_loader, set_seed, resnet18"
   ]
  },
  {
   "cell_type": "code",
   "execution_count": null,
   "metadata": {},
   "outputs": [],
   "source": [
    "data_path = \"../data/imagenet\"\n",
    "batch_size = 32\n",
    "cuda = torch.cuda.is_available()\n",
    "device = torch.device(\"cuda:0\" if cuda else \"cpu\")\n",
    "workers = 12\n",
    "\n",
    "g = set_seed(42)\n",
    "\n",
    "# train_loader = ImageNet_loader(data_path, batch_size, device,\n",
    "#     train=True, generator=g, workers=workers, use_amp=torch.cuda.is_available(), use_ffcv=False)\n",
    "test_loader = ImageNet_loader(data_path, batch_size, device,\n",
    "    train=False, generator=g, workers=workers, use_amp=cuda, use_ffcv=False)"
   ]
  },
  {
   "cell_type": "code",
   "execution_count": null,
   "metadata": {},
   "outputs": [],
   "source": [
    "algo = \"baseline\"\n",
    "load_dir = f\"./experiments/imagenet/session2/{algo}000/\"\n",
    "\n",
    "model = resnet18(1000, pretrained=False)"
   ]
  },
  {
   "cell_type": "code",
   "execution_count": null,
   "metadata": {},
   "outputs": [],
   "source": [
    "if algo == \"dml\":\n",
    "    model_pt = glob.glob(os.path.join(load_dir, \"student*.pt\"))[0]\n",
    "    state_dict = torch.load(model_pt, map_location=device)\n",
    "    model.load_state_dict(state_dict)\n",
    "else:\n",
    "    state_dict = torch.load(os.path.join(load_dir, \"student.pt\"), map_location=device)\n",
    "    model.load_state_dict(state_dict)"
   ]
  },
  {
   "cell_type": "code",
   "execution_count": null,
   "metadata": {},
   "outputs": [],
   "source": [
    "model.eval()\n",
    "outputs = []\n",
    "targets = []\n",
    "\n",
    "with torch.no_grad():\n",
    "    for batch_idx, (data, target) in enumerate(tqdm(test_loader)):\n",
    "        if batch_idx > 100:\n",
    "            break\n",
    "        data = data.to(device)\n",
    "        target = target.to(device)\n",
    "        \n",
    "        with autocast(enabled=cuda):\n",
    "            output = model(data)\n",
    "        \n",
    "        if isinstance(output, tuple):\n",
    "            output = output[0]\n",
    "        \n",
    "        outputs.append(output)\n",
    "        targets.append(target)"
   ]
  },
  {
   "cell_type": "code",
   "execution_count": null,
   "metadata": {},
   "outputs": [],
   "source": [
    "out_tensor = torch.cat(outputs, dim=0)\n",
    "target_tensor = torch.cat(targets, dim=0)"
   ]
  },
  {
   "cell_type": "code",
   "execution_count": null,
   "metadata": {},
   "outputs": [],
   "source": [
    "one_hot = F.one_hot(target_tensor, num_classes=1000)\n",
    "out_prob = F.softmax(out_tensor, dim=-1)\n",
    "one_hot.shape, out_prob.shape"
   ]
  },
  {
   "cell_type": "code",
   "execution_count": null,
   "metadata": {},
   "outputs": [],
   "source": [
    "auc = metrics.roc_auc_score(one_hot, out_prob, multi_class=\"ovr\")"
   ]
  },
  {
   "cell_type": "code",
   "execution_count": null,
   "metadata": {},
   "outputs": [],
   "source": [
    "np.unique(target_tensor)"
   ]
  },
  {
   "cell_type": "code",
   "execution_count": null,
   "metadata": {},
   "outputs": [],
   "source": []
  }
 ],
 "metadata": {
  "interpreter": {
   "hash": "421c28683662b71ad006cdcc047fe5ec829d90985c2ce2d3b00c043303e2ff71"
  },
  "kernelspec": {
   "display_name": "Python 3.9.7 64-bit ('venv': venv)",
   "language": "python",
   "name": "python3"
  },
  "language_info": {
   "codemirror_mode": {
    "name": "ipython",
    "version": 3
   },
   "file_extension": ".py",
   "mimetype": "text/x-python",
   "name": "python",
   "nbconvert_exporter": "python",
   "pygments_lexer": "ipython3",
   "version": "3.9.7"
  },
  "orig_nbformat": 4
 },
 "nbformat": 4,
 "nbformat_minor": 2
}
